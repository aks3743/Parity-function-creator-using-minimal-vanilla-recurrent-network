{
 "cells": [
  {
   "cell_type": "markdown",
   "id": "FDMWG8R1OxNz",
   "metadata": {
    "id": "FDMWG8R1OxNz"
   },
   "source": [
    "# Import the libraries"
   ]
  },
  {
   "cell_type": "code",
   "execution_count": 1,
   "id": "f22afb9f",
   "metadata": {
    "id": "f22afb9f"
   },
   "outputs": [],
   "source": [
    "# Importing the necessary libraries\n",
    "import numpy as np\n",
    "import pandas as pd\n",
    "import tensorflow as tf\n",
    "from sklearn.model_selection import train_test_split\n",
    "from tensorflow.keras.models import Sequential\n",
    "from tensorflow.keras.layers import Dense, SimpleRNN\n",
    "import matplotlib.pyplot as plt"
   ]
  },
  {
   "cell_type": "markdown",
   "id": "FV9Ty7JYO69O",
   "metadata": {
    "id": "FV9Ty7JYO69O"
   },
   "source": [
    "# Defining the dataset"
   ]
  },
  {
   "cell_type": "code",
   "execution_count": 2,
   "id": "33044478",
   "metadata": {
    "id": "33044478"
   },
   "outputs": [],
   "source": [
    "# Function to generate a random sequence\n",
    "def generate_sequence(n):   \n",
    "    in_seq = []\n",
    "    for i in range(n):\n",
    "        bit = np.random.randint(0,2)\n",
    "        in_seq.append(bit)\n",
    "    return in_seq\n",
    "\n",
    "# Function which returns 0 or 1 if the input parity sequence is odd or even\n",
    "def parity(sequence):    \n",
    "    k = 1\n",
    "    for bit in sequence:\n",
    "        if(bit == 0):\n",
    "            bit = -1\n",
    "        k*= bit\n",
    "    if(k == -1):\n",
    "        return 0\n",
    "    return 1\n",
    "\n",
    "# Sequence parity function to return the output parity sequence\n",
    "def sequence_parity_func(sequence):    \n",
    "  seq = []\n",
    "  k = 1\n",
    "  for bit in range(len(sequence)):\n",
    "    n = parity(sequence[:k])\n",
    "    seq.append(n)\n",
    "    k = k+1\n",
    "  return seq"
   ]
  },
  {
   "cell_type": "code",
   "execution_count": 3,
   "id": "LxHwyNeCuXeV",
   "metadata": {
    "colab": {
     "base_uri": "https://localhost:8080/"
    },
    "id": "LxHwyNeCuXeV",
    "outputId": "8c06555b-69ec-4145-ae50-f076f2e14ee2"
   },
   "outputs": [
    {
     "name": "stdout",
     "output_type": "stream",
     "text": [
      "[0, 0, 1, 1, 1, 0]\n"
     ]
    }
   ],
   "source": [
    "# EXAMPLE: Taken from the assignment\n",
    "\n",
    "seq=np.array([0, 1, 0, 1, 1, 0])\n",
    "print(sequence_parity_func(seq))\n",
    "\n",
    "# output must be: [0, 0, 1, 1, 1, 0]"
   ]
  },
  {
   "cell_type": "code",
   "execution_count": 4,
   "id": "82742a4d",
   "metadata": {
    "colab": {
     "base_uri": "https://localhost:8080/"
    },
    "id": "82742a4d",
    "outputId": "c24119ce-e918-4a06-d74c-a646bac289d3"
   },
   "outputs": [
    {
     "name": "stdout",
     "output_type": "stream",
     "text": [
      "Data: \n",
      "\n",
      "Input Sequence:  [0, 0, 1, 1, 0, 0] \n",
      "Output Sequence: [0, 1, 1, 1, 0, 1] \n",
      "\n",
      "Input Sequence:  [1, 0, 0, 1, 0, 1] \n",
      "Output Sequence: [1, 0, 1, 1, 0, 0] \n",
      "\n",
      "Input Sequence:  [1, 1, 0, 0, 1, 0] \n",
      "Output Sequence: [1, 1, 0, 1, 1, 0] \n",
      "\n",
      "Input Sequence:  [1, 0, 1, 1, 1, 0] \n",
      "Output Sequence: [1, 0, 0, 0, 0, 1] \n",
      "\n",
      "Input Sequence:  [0, 1, 1, 1, 0, 0] \n",
      "Output Sequence: [0, 0, 0, 0, 1, 0] \n",
      "\n"
     ]
    }
   ],
   "source": [
    "# Generate 2000 random 0/1 sequences of length 6\n",
    "\n",
    "data = []\n",
    "for i in range(2000):\n",
    "    data.append(generate_sequence(6))\n",
    "\n",
    "print(\"Data: \\n\")\n",
    "\n",
    "for seq in data[:5]:\n",
    "    print(\"Input Sequence: \",seq,\"\\nOutput Sequence:\",sequence_parity_func(seq),\"\\n\")"
   ]
  },
  {
   "cell_type": "code",
   "execution_count": 5,
   "id": "89284c24",
   "metadata": {
    "colab": {
     "base_uri": "https://localhost:8080/"
    },
    "id": "89284c24",
    "outputId": "4524d349-be67-426f-8af4-5f191f8b4525"
   },
   "outputs": [
    {
     "data": {
      "text/plain": [
       "[[0, 0, 1, 1, 0, 0],\n",
       " [1, 0, 0, 1, 0, 1],\n",
       " [1, 1, 0, 0, 1, 0],\n",
       " [1, 0, 1, 1, 1, 0],\n",
       " [0, 1, 1, 1, 0, 0]]"
      ]
     },
     "execution_count": 5,
     "metadata": {},
     "output_type": "execute_result"
    }
   ],
   "source": [
    "# Input sequence list\n",
    "data[:5]"
   ]
  },
  {
   "cell_type": "code",
   "execution_count": 6,
   "id": "7a20c1ba",
   "metadata": {
    "id": "7a20c1ba"
   },
   "outputs": [],
   "source": [
    "# Output sequence list\n",
    "y = []\n",
    "\n",
    "for seq in data:\n",
    "    y.append(sequence_parity_func(seq))"
   ]
  },
  {
   "cell_type": "code",
   "execution_count": 7,
   "id": "1ec4ce56",
   "metadata": {
    "colab": {
     "base_uri": "https://localhost:8080/"
    },
    "id": "1ec4ce56",
    "outputId": "1829179c-93b7-4c0d-c4ec-e66f8c6fdfc0"
   },
   "outputs": [
    {
     "data": {
      "text/plain": [
       "[[0, 1, 1, 1, 0, 1],\n",
       " [1, 0, 1, 1, 0, 0],\n",
       " [1, 1, 0, 1, 1, 0],\n",
       " [1, 0, 0, 0, 0, 1],\n",
       " [0, 0, 0, 0, 1, 0]]"
      ]
     },
     "execution_count": 7,
     "metadata": {},
     "output_type": "execute_result"
    }
   ],
   "source": [
    "# Output sequence list\n",
    "y[0:5]"
   ]
  },
  {
   "cell_type": "code",
   "execution_count": 8,
   "id": "503e6c0b",
   "metadata": {
    "id": "503e6c0b"
   },
   "outputs": [],
   "source": [
    "# Splitting the data into train and test\n",
    "X_train,X_test,y_train,y_test = train_test_split(data,y,test_size=0.2,random_state=46)\n",
    "\n",
    "# Converting the data into array\n",
    "X_train , y_train = np.array(X_train),np.array(y_train)\n",
    "X_test , y_test = np.array(X_test),np.array(y_test)"
   ]
  },
  {
   "cell_type": "code",
   "execution_count": 9,
   "id": "5998262d",
   "metadata": {
    "id": "5998262d"
   },
   "outputs": [],
   "source": [
    "# Expanding the dimension of input for RNN models\n",
    "X_train = np.expand_dims(X_train, -1)\n",
    "X_test = np.expand_dims(X_test, -1)"
   ]
  },
  {
   "cell_type": "code",
   "execution_count": 10,
   "id": "8a136f2e",
   "metadata": {
    "colab": {
     "base_uri": "https://localhost:8080/"
    },
    "id": "8a136f2e",
    "outputId": "a6cc1ca7-bcf0-466c-e20d-27632c16ce7d"
   },
   "outputs": [
    {
     "name": "stdout",
     "output_type": "stream",
     "text": [
      "X_train shape: (1600, 6, 1)\n",
      "X_test shape: (400, 6, 1)\n"
     ]
    }
   ],
   "source": [
    "print(f\"X_train shape: {X_train.shape}\\nX_test shape: {X_test.shape}\")"
   ]
  },
  {
   "cell_type": "code",
   "execution_count": 11,
   "id": "17f45638",
   "metadata": {
    "id": "17f45638"
   },
   "outputs": [],
   "source": [
    "y_train = np.expand_dims(y_train, -1)"
   ]
  },
  {
   "cell_type": "code",
   "execution_count": 12,
   "id": "aa3f64d8",
   "metadata": {
    "colab": {
     "base_uri": "https://localhost:8080/"
    },
    "id": "aa3f64d8",
    "outputId": "19f50de9-35e2-4272-d246-5fab95ada67c"
   },
   "outputs": [
    {
     "name": "stdout",
     "output_type": "stream",
     "text": [
      "(1600, 6, 1) (1600, 6, 1)\n"
     ]
    }
   ],
   "source": [
    "print(X_train.shape,y_train.shape)"
   ]
  },
  {
   "cell_type": "markdown",
   "id": "sRLdBiPHPAMj",
   "metadata": {
    "id": "sRLdBiPHPAMj"
   },
   "source": [
    "# Model building"
   ]
  },
  {
   "cell_type": "code",
   "execution_count": 13,
   "id": "5c8ff26a",
   "metadata": {
    "id": "5c8ff26a"
   },
   "outputs": [],
   "source": [
    "# Creating the SimpleRNN model\n",
    "model = Sequential()\n",
    "model.add(SimpleRNN(60, activation='relu',input_shape=(X_train.shape[1], X_train.shape[2]), return_sequences=True,dropout = 0.2, recurrent_dropout = 0.2))\n",
    "model.add(SimpleRNN(60, activation='relu', return_sequences=True,dropout = 0.2, recurrent_dropout = 0.2))\n",
    "model.add(SimpleRNN(60,activation = 'relu',return_sequences = True))\n",
    "model.add(Dense(64,activation = 'relu'))\n",
    "model.add(Dense(1,activation ='sigmoid'))"
   ]
  },
  {
   "cell_type": "code",
   "execution_count": 14,
   "id": "e00bef2a",
   "metadata": {
    "colab": {
     "base_uri": "https://localhost:8080/"
    },
    "id": "e00bef2a",
    "outputId": "7692ade1-b8a8-4b1f-e0ba-8b428910ff78"
   },
   "outputs": [
    {
     "name": "stdout",
     "output_type": "stream",
     "text": [
      "Model: \"sequential\"\n",
      "_________________________________________________________________\n",
      " Layer (type)                Output Shape              Param #   \n",
      "=================================================================\n",
      " simple_rnn (SimpleRNN)      (None, 6, 60)             3720      \n",
      "                                                                 \n",
      " simple_rnn_1 (SimpleRNN)    (None, 6, 60)             7260      \n",
      "                                                                 \n",
      " simple_rnn_2 (SimpleRNN)    (None, 6, 60)             7260      \n",
      "                                                                 \n",
      " dense (Dense)               (None, 6, 64)             3904      \n",
      "                                                                 \n",
      " dense_1 (Dense)             (None, 6, 1)              65        \n",
      "                                                                 \n",
      "=================================================================\n",
      "Total params: 22,209\n",
      "Trainable params: 22,209\n",
      "Non-trainable params: 0\n",
      "_________________________________________________________________\n"
     ]
    }
   ],
   "source": [
    "model.summary() "
   ]
  },
  {
   "cell_type": "code",
   "execution_count": 15,
   "id": "3938b1d2",
   "metadata": {
    "id": "3938b1d2"
   },
   "outputs": [],
   "source": [
    "# Compiling the model\n",
    "model.compile(loss = 'binary_crossentropy',optimizer='adam',metrics=['accuracy'])"
   ]
  },
  {
   "cell_type": "code",
   "execution_count": 16,
   "id": "f8556170",
   "metadata": {
    "colab": {
     "base_uri": "https://localhost:8080/"
    },
    "id": "f8556170",
    "outputId": "bfdf7dc9-181a-4173-dd54-b70fcbdca214"
   },
   "outputs": [
    {
     "name": "stdout",
     "output_type": "stream",
     "text": [
      "Epoch 1/15\n",
      "50/50 [==============================] - 7s 44ms/step - loss: 0.6867 - accuracy: 0.5501 - val_loss: 0.6668 - val_accuracy: 0.6187\n",
      "Epoch 2/15\n",
      "50/50 [==============================] - 1s 17ms/step - loss: 0.6507 - accuracy: 0.5895 - val_loss: 0.5632 - val_accuracy: 0.6463\n",
      "Epoch 3/15\n",
      "50/50 [==============================] - 1s 18ms/step - loss: 0.5820 - accuracy: 0.6524 - val_loss: 0.4228 - val_accuracy: 0.8275\n",
      "Epoch 4/15\n",
      "50/50 [==============================] - 1s 16ms/step - loss: 0.5560 - accuracy: 0.6879 - val_loss: 0.3898 - val_accuracy: 0.8442\n",
      "Epoch 5/15\n",
      "50/50 [==============================] - 1s 17ms/step - loss: 0.5314 - accuracy: 0.7261 - val_loss: 0.3408 - val_accuracy: 0.9483\n",
      "Epoch 6/15\n",
      "50/50 [==============================] - 1s 16ms/step - loss: 0.5298 - accuracy: 0.7220 - val_loss: 0.3465 - val_accuracy: 0.9454\n",
      "Epoch 7/15\n",
      "50/50 [==============================] - 1s 16ms/step - loss: 0.5194 - accuracy: 0.7457 - val_loss: 0.3512 - val_accuracy: 0.9408\n",
      "Epoch 8/15\n",
      "50/50 [==============================] - 1s 15ms/step - loss: 0.5247 - accuracy: 0.7356 - val_loss: 0.3064 - val_accuracy: 0.9842\n",
      "Epoch 9/15\n",
      "50/50 [==============================] - 1s 17ms/step - loss: 0.5089 - accuracy: 0.7565 - val_loss: 0.2720 - val_accuracy: 0.9987\n",
      "Epoch 10/15\n",
      "50/50 [==============================] - 1s 15ms/step - loss: 0.5095 - accuracy: 0.7551 - val_loss: 0.2785 - val_accuracy: 0.9979\n",
      "Epoch 11/15\n",
      "50/50 [==============================] - 1s 16ms/step - loss: 0.5237 - accuracy: 0.7369 - val_loss: 0.3041 - val_accuracy: 0.9846\n",
      "Epoch 12/15\n",
      "50/50 [==============================] - 1s 14ms/step - loss: 0.5198 - accuracy: 0.7442 - val_loss: 0.3538 - val_accuracy: 0.9488\n",
      "Epoch 13/15\n",
      "50/50 [==============================] - 1s 10ms/step - loss: 0.5045 - accuracy: 0.7598 - val_loss: 0.3088 - val_accuracy: 0.9908\n",
      "Epoch 14/15\n",
      "50/50 [==============================] - 0s 8ms/step - loss: 0.5063 - accuracy: 0.7502 - val_loss: 0.2900 - val_accuracy: 0.9821\n",
      "Epoch 15/15\n",
      "50/50 [==============================] - 0s 8ms/step - loss: 0.5131 - accuracy: 0.7494 - val_loss: 0.3008 - val_accuracy: 0.9867\n"
     ]
    }
   ],
   "source": [
    "# Training the model and checking the validation accuracy\n",
    "history = model.fit(X_train,y_train,batch_size=32,validation_data=(X_test,y_test),epochs=15)"
   ]
  },
  {
   "cell_type": "code",
   "execution_count": 17,
   "id": "e9a2460a",
   "metadata": {
    "colab": {
     "base_uri": "https://localhost:8080/",
     "height": 284
    },
    "id": "e9a2460a",
    "outputId": "85407866-997f-45fc-9a38-b9413ea1b9c4"
   },
   "outputs": [
    {
     "data": {
      "text/plain": [
       "<matplotlib.legend.Legend at 0x7f8487518910>"
      ]
     },
     "execution_count": 17,
     "metadata": {},
     "output_type": "execute_result"
    },
    {
     "data": {
      "image/png": "[encoded data removed]",
      "text/plain": [
       "<Figure size 432x288 with 1 Axes>"
      ]
     },
     "metadata": {
      "needs_background": "light"
     },
     "output_type": "display_data"
    }
   ],
   "source": [
    "# Checking the training loss and accuracy\n",
    "plt.plot(history.history['accuracy'],label = 'Training accuracy')\n",
    "plt.plot(history.history['loss'], label='Training loss')\n",
    "plt.legend()"
   ]
  },
  {
   "cell_type": "code",
   "execution_count": 18,
   "id": "55f92011",
   "metadata": {
    "colab": {
     "base_uri": "https://localhost:8080/",
     "height": 284
    },
    "id": "55f92011",
    "outputId": "175efe9c-0ac0-4350-e244-da048a3bd604"
   },
   "outputs": [
    {
     "data": {
      "text/plain": [
       "<matplotlib.legend.Legend at 0x7f84874b4ed0>"
      ]
     },
     "execution_count": 18,
     "metadata": {},
     "output_type": "execute_result"
    },
    {
     "data": {
      "image/png": "[encoded data removed]",
      "text/plain": [
       "<Figure size 432x288 with 1 Axes>"
      ]
     },
     "metadata": {
      "needs_background": "light"
     },
     "output_type": "display_data"
    }
   ],
   "source": [
    "# Checking validation loss and accuracy\n",
    "plt.plot(history.history['val_accuracy'],label = 'Validation accuracy')\n",
    "plt.plot(history.history['val_loss'], label='Validation loss')\n",
    "plt.legend()"
   ]
  },
  {
   "cell_type": "markdown",
   "id": "TKSUzu23tQWc",
   "metadata": {
    "id": "TKSUzu23tQWc"
   },
   "source": [
    "# State Transition diagram"
   ]
  },
  {
   "cell_type": "code",
   "execution_count": 19,
   "id": "nrW0hwUbsJcv",
   "metadata": {
    "colab": {
     "base_uri": "https://localhost:8080/",
     "height": 248
    },
    "id": "nrW0hwUbsJcv",
    "outputId": "96c4bc89-8289-4f22-98d0-c51f8731312e"
   },
   "outputs": [
    {
     "data": {
      "image/png": "[encoded data removed]",
      "text/plain": [
       "<Figure size 432x288 with 1 Axes>"
      ]
     },
     "metadata": {
      "needs_background": "light"
     },
     "output_type": "display_data"
    }
   ],
   "source": [
    "i = plt.imread(\"State_transition_diagram.jpg\")\n",
    "plt.imshow(i)\n",
    "plt.axis(\"off\")\n",
    "plt.show()"
   ]
  },
  {
   "cell_type": "markdown",
   "id": "MMeH-ZCFtVdn",
   "metadata": {
    "id": "MMeH-ZCFtVdn"
   },
   "source": [
    "Figure above shows an RNN which finds parity of input at a particular time. All of the units are linear. \n",
    "\n",
    "* If the hidden-to-output weight is 1, it means the output unit just copies the hidden activation.\n",
    "\n",
    "* If the hidden-to-hidden weight is 1, it means that in the absence of any input, the hidden unit just remembers its previous value.\n",
    "\n",
    "* If the input-to-hidden weight is 1, it means the input gets added to the hidden activation in every time step.\n"
   ]
  },
  {
   "cell_type": "markdown",
   "id": "PpLmzDt4tc0X",
   "metadata": {
    "id": "PpLmzDt4tc0X"
   },
   "source": [
    "# Parameters of the network: \n",
    "* **1 Simple RNN Input layer:** having 60 RNN cells, using 'ReLU' activation function\n",
    "\n",
    "* **2 Simple RNN Hidden layers:** having 60 RNN cells each, using 'ReLU' activation function \n",
    "\n",
    "* **1 Dense layer:** having 64 RNN cells, using 'ReLU' activation function \n",
    "\n",
    "* **1 Dense/Output layer:** having 1 RNN cells using 'Sigmoid' activation function \n",
    "\n",
    "**Loss function:** Binary cross-entropy -> computes loss between true labels and predicted labels.\n",
    "\n",
    "We use this cross-entropy loss for binary (0 or 1) classification applications\n",
    "\n",
    "**Optimizer:** Adam optimizer function is used in this problem statement"
   ]
  }
 ],
 "metadata": {
  "colab": {
   "collapsed_sections": [],
   "name": "Grp189_DL_Q2.ipynb",
   "provenance": []
  },
  "kernelspec": {
   "display_name": "Python 3 (ipykernel)",
   "language": "python",
   "name": "python3"
  },
  "language_info": {
   "codemirror_mode": {
    "name": "ipython",
    "version": 3
   },
   "file_extension": ".py",
   "mimetype": "text/x-python",
   "name": "python",
   "nbconvert_exporter": "python",
   "pygments_lexer": "ipython3",
   "version": "3.9.7"
  }
 },
 "nbformat": 4,
 "nbformat_minor": 5
}
